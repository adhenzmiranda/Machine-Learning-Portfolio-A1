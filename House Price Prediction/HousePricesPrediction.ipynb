{
 "cells": [
  {
   "cell_type": "code",
   "execution_count": 2,
   "metadata": {
    "execution": {
     "iopub.execute_input": "2024-10-28T08:07:35.425298Z",
     "iopub.status.busy": "2024-10-28T08:07:35.424190Z",
     "iopub.status.idle": "2024-10-28T08:07:35.432372Z",
     "shell.execute_reply": "2024-10-28T08:07:35.430975Z",
     "shell.execute_reply.started": "2024-10-28T08:07:35.425243Z"
    },
    "trusted": true
   },
   "outputs": [],
   "source": [
    "import pandas as pd\n",
    "import numpy as np\n",
    "import matplotlib.pyplot as plt\n",
    "import seaborn as sns\n",
    "from sklearn.model_selection import train_test_split\n",
    "from sklearn.linear_model import LinearRegression\n",
    "from sklearn.metrics import mean_absolute_error, mean_squared_error, r2_score, accuracy_score\n"
   ]
  },
  {
   "cell_type": "markdown",
   "metadata": {},
   "source": [
    "# Load the dataset"
   ]
  },
  {
   "cell_type": "code",
   "execution_count": 3,
   "metadata": {
    "execution": {
     "iopub.execute_input": "2024-10-28T08:07:35.436337Z",
     "iopub.status.busy": "2024-10-28T08:07:35.435675Z",
     "iopub.status.idle": "2024-10-28T08:07:35.460348Z",
     "shell.execute_reply": "2024-10-28T08:07:35.459070Z",
     "shell.execute_reply.started": "2024-10-28T08:07:35.436274Z"
    },
    "trusted": true
   },
   "outputs": [
    {
     "name": "stdout",
     "output_type": "stream",
     "text": [
      "<class 'pandas.core.frame.DataFrame'>\n",
      "RangeIndex: 414 entries, 0 to 413\n",
      "Data columns (total 8 columns):\n",
      " #   Column                                  Non-Null Count  Dtype  \n",
      "---  ------                                  --------------  -----  \n",
      " 0   No                                      414 non-null    int64  \n",
      " 1   X1 transaction date                     414 non-null    float64\n",
      " 2   X2 house age                            414 non-null    float64\n",
      " 3   X3 distance to the nearest MRT station  414 non-null    float64\n",
      " 4   X4 number of convenience stores         414 non-null    int64  \n",
      " 5   X5 latitude                             414 non-null    float64\n",
      " 6   X6 longitude                            414 non-null    float64\n",
      " 7   Y house price of unit area              414 non-null    float64\n",
      "dtypes: float64(6), int64(2)\n",
      "memory usage: 26.0 KB\n"
     ]
    }
   ],
   "source": [
    "data = pd.read_csv(\"real-estate.csv\", encoding=\"latin-1\")\n",
    "\n",
    "data.head()\n",
    "data.info()"
   ]
  },
  {
   "cell_type": "markdown",
   "metadata": {},
   "source": [
    "# Data Pre-Processing"
   ]
  },
  {
   "cell_type": "code",
   "execution_count": 4,
   "metadata": {
    "execution": {
     "iopub.execute_input": "2024-10-28T08:07:35.462352Z",
     "iopub.status.busy": "2024-10-28T08:07:35.461952Z",
     "iopub.status.idle": "2024-10-28T08:07:35.470220Z",
     "shell.execute_reply": "2024-10-28T08:07:35.468864Z",
     "shell.execute_reply.started": "2024-10-28T08:07:35.462309Z"
    },
    "trusted": true
   },
   "outputs": [],
   "source": [
    "x = data[['X1 transaction date','X2 house age', 'X3 distance to the nearest MRT station', 'X4 number of convenience stores', 'X5 latitude', 'X6 longitude']]\n",
    "y = data['Y house price of unit area']"
   ]
  },
  {
   "cell_type": "markdown",
   "metadata": {},
   "source": [
    "# Splitting the data"
   ]
  },
  {
   "cell_type": "code",
   "execution_count": 5,
   "metadata": {
    "execution": {
     "iopub.execute_input": "2024-10-28T08:07:35.473458Z",
     "iopub.status.busy": "2024-10-28T08:07:35.473026Z",
     "iopub.status.idle": "2024-10-28T08:07:35.485827Z",
     "shell.execute_reply": "2024-10-28T08:07:35.484447Z",
     "shell.execute_reply.started": "2024-10-28T08:07:35.473415Z"
    },
    "trusted": true
   },
   "outputs": [],
   "source": [
    "x_train, x_test, y_train, y_test = train_test_split(x, y, test_size=0.2, random_state=42)"
   ]
  },
  {
   "cell_type": "markdown",
   "metadata": {},
   "source": [
    "# Predicting the data"
   ]
  },
  {
   "cell_type": "code",
   "execution_count": 6,
   "metadata": {
    "execution": {
     "iopub.execute_input": "2024-10-28T08:07:35.488018Z",
     "iopub.status.busy": "2024-10-28T08:07:35.487519Z",
     "iopub.status.idle": "2024-10-28T08:07:35.507897Z",
     "shell.execute_reply": "2024-10-28T08:07:35.506483Z",
     "shell.execute_reply.started": "2024-10-28T08:07:35.487954Z"
    },
    "trusted": true
   },
   "outputs": [
    {
     "data": {
      "text/plain": [
       "array([47.88625422, 41.16404556, 44.27301439, 40.19761542, 27.51326511,\n",
       "       45.10953115, 44.63293274, 46.36346234, 23.62063133, 54.33444894,\n",
       "       34.07416461, 36.54533193, 37.55154254, 23.2794052 , 35.26614165,\n",
       "       34.38327747, 43.35633504, 45.40740539, 30.07083159, 44.09191493,\n",
       "        0.73505984, 34.99271686, 48.22735154, 45.48646485, 11.5995282 ,\n",
       "       39.69783664, 12.71276251, 42.91282893, 34.93451401, 37.27964515,\n",
       "       13.17842185, 40.12708486, 35.21883505, 27.71588924, 46.40090931,\n",
       "       31.21941994, 50.90046891, 14.07339433, 49.05344276, 40.0538446 ,\n",
       "       38.24588962, 40.63256441, 47.01634759, 37.65598977, 39.85801839,\n",
       "       46.88588156, 43.7241343 , 20.94434531, 47.41546271, 45.40608841,\n",
       "       48.33783579, 48.98845389, 42.27403852, 42.5841908 , 36.04088185,\n",
       "       14.95491907, 36.61494629, 34.88196676, 28.33519081, 45.91188076,\n",
       "       33.19268817, 32.18910095, 14.95491907,  8.86547927, 10.36079881,\n",
       "       34.11119212, 28.48186875, 46.59826043, 32.96743316, 31.47635439,\n",
       "       45.75168852, 38.1732971 , 45.83734855, 45.10711423, 34.85434095,\n",
       "       37.43148997, 38.12216764, 37.54923793, 40.3686992 , 33.09139633,\n",
       "       42.32783358, 43.35398473, 28.43979763])"
      ]
     },
     "execution_count": 6,
     "metadata": {},
     "output_type": "execute_result"
    }
   ],
   "source": [
    "model = LinearRegression()\n",
    "model.fit(x_train, y_train)\n",
    "\n",
    "y_pred = model.predict(x_test)\n",
    "\n",
    "y_pred"
   ]
  },
  {
   "cell_type": "markdown",
   "metadata": {},
   "source": [
    "# Accuracy of the data"
   ]
  },
  {
   "cell_type": "code",
   "execution_count": 7,
   "metadata": {},
   "outputs": [
    {
     "name": "stdout",
     "output_type": "stream",
     "text": [
      "Mean Squared Error: 53.51\n",
      "Root Mean Squared Error: 7.31\n",
      "R-Squared: 68.11%\n"
     ]
    },
    {
     "name": "stderr",
     "output_type": "stream",
     "text": [
      "c:\\Users\\adhen\\AppData\\Local\\Programs\\Python\\Python310\\lib\\site-packages\\sklearn\\metrics\\_regression.py:492: FutureWarning: 'squared' is deprecated in version 1.4 and will be removed in 1.6. To calculate the root mean squared error, use the function'root_mean_squared_error'.\n",
      "  warnings.warn(\n"
     ]
    }
   ],
   "source": [
    "mse = mean_squared_error(y_test, y_pred)\n",
    "rmse = mean_squared_error(y_test, y_pred, squared=False)\n",
    "r2 = r2_score(y_test, y_pred)\n",
    "\n",
    "print(f'Mean Squared Error: {mse:.2f}')\n",
    "print(f'Root Mean Squared Error: {rmse:.2f}')\n",
    "print(f'R-Squared: {r2*100:.2f}'+'%')\n"
   ]
  },
  {
   "cell_type": "markdown",
   "metadata": {},
   "source": [
    "# Plotting the data"
   ]
  },
  {
   "cell_type": "code",
   "execution_count": 8,
   "metadata": {
    "execution": {
     "iopub.execute_input": "2024-10-28T08:08:04.821299Z",
     "iopub.status.busy": "2024-10-28T08:08:04.820843Z",
     "iopub.status.idle": "2024-10-28T08:08:05.361694Z",
     "shell.execute_reply": "2024-10-28T08:08:05.360117Z",
     "shell.execute_reply.started": "2024-10-28T08:08:04.821256Z"
    },
    "trusted": true
   },
   "outputs": [
    {
     "data": {
      "image/png": "[encoded data removed]",
      "text/plain": [
       "<Figure size 1000x600 with 1 Axes>"
      ]
     },
     "metadata": {},
     "output_type": "display_data"
    }
   ],
   "source": [
    "plt.figure(figsize=(10,6))\n",
    "sns.scatterplot(x=y_test, y=y_pred, alpha=0.7, color='b', edgecolors='k')\n",
    "plt.plot([y_test.min(), y_test.max()], [y_test.min(), y_test.max()], 'r--')\n",
    "plt.xlabel('Actual House Prices')\n",
    "plt.ylabel('Predicted House Prices')\n",
    "plt.title('Actual vs Predicted House Prices')\n",
    "plt.show()"
   ]
  }
 ],
 "metadata": {
  "kaggle": {
   "accelerator": "none",
   "dataSources": [
    {
     "datasetId": 5963136,
     "sourceId": 9741851,
     "sourceType": "datasetVersion"
    }
   ],
   "dockerImageVersionId": 30786,
   "isGpuEnabled": false,
   "isInternetEnabled": false,
   "language": "python",
   "sourceType": "notebook"
  },
  "kernelspec": {
   "display_name": "Python 3",
   "language": "python",
   "name": "python3"
  },
  "language_info": {
   "codemirror_mode": {
    "name": "ipython",
    "version": 3
   },
   "file_extension": ".py",
   "mimetype": "text/x-python",
   "name": "python",
   "nbconvert_exporter": "python",
   "pygments_lexer": "ipython3",
   "version": "3.10.11"
  }
 },
 "nbformat": 4,
 "nbformat_minor": 4
}
